{
  "nbformat": 4,
  "nbformat_minor": 0,
  "metadata": {
    "colab": {
      "name": "21_nov_2020",
      "provenance": [],
      "authorship_tag": "ABX9TyPiN5gppeR6pIOecePtI9s7",
      "include_colab_link": true
    },
    "kernelspec": {
      "name": "python3",
      "display_name": "Python 3"
    }
  },
  "cells": [
    {
      "cell_type": "markdown",
      "metadata": {
        "id": "view-in-github",
        "colab_type": "text"
      },
      "source": [
        "<a href=\"https://colab.research.google.com/github/orlansx9/CYP_2021/blob/main/21_nov_2020.ipynb\" target=\"_parent\"><img src=\"https://colab.research.google.com/assets/colab-badge.svg\" alt=\"Open In Colab\"/></a>"
      ]
    },
    {
      "cell_type": "code",
      "metadata": {
        "colab": {
          "base_uri": "https://localhost:8080/"
        },
        "id": "ZsXAWtvljgc6",
        "outputId": "f01159aa-a390-43a4-938a-939c1cebbc72"
      },
      "source": [
        "if(True):\n",
        "  print(\"la condicion se cumple\")\n",
        "\n",
        "print(\"termina el programa\")"
      ],
      "execution_count": 1,
      "outputs": [
        {
          "output_type": "stream",
          "text": [
            "la condicion se cumple\n",
            "termina el programa\n"
          ],
          "name": "stdout"
        }
      ]
    },
    {
      "cell_type": "code",
      "metadata": {
        "colab": {
          "base_uri": "https://localhost:8080/"
        },
        "id": "DdNGTaKGlyCM",
        "outputId": "22a6e104-76ae-4b85-b414-1ddae47cdef4"
      },
      "source": [
        "if(5>3):\n",
        "  print(\"la condicion se cumple\")\n",
        "\n",
        "print(\"termina el programa\")"
      ],
      "execution_count": 8,
      "outputs": [
        {
          "output_type": "stream",
          "text": [
            "la condicion se cumple\n",
            "termina el programa\n"
          ],
          "name": "stdout"
        }
      ]
    },
    {
      "cell_type": "code",
      "metadata": {
        "colab": {
          "base_uri": "https://localhost:8080/"
        },
        "id": "JIXRQk7Amboo",
        "outputId": "6b65a0dc-28b5-44cf-e303-967a76edf008"
      },
      "source": [
        "if(2>3):\n",
        "  print(\"se cumple\")\n",
        "\n",
        "print(\"no se cumple\")"
      ],
      "execution_count": 6,
      "outputs": [
        {
          "output_type": "stream",
          "text": [
            "no se cumple\n"
          ],
          "name": "stdout"
        }
      ]
    },
    {
      "cell_type": "code",
      "metadata": {
        "colab": {
          "base_uri": "https://localhost:8080/"
        },
        "id": "aPi3dwuIozSr",
        "outputId": "c4b59159-98df-4f20-96b3-88b5f1aef238"
      },
      "source": [
        "# ejercicio 1\n",
        "\n",
        "calificacion = float(input(\"cual es tu calificacion \"))\n",
        "\n",
        "if(calificacion > 8):\n",
        "  print(\"aprobado\")\n",
        "\n",
        "print(\"reprobado\")"
      ],
      "execution_count": 10,
      "outputs": [
        {
          "output_type": "stream",
          "text": [
            "cual es tu calificacion 8.5\n",
            "aprobado\n",
            "reprobado\n"
          ],
          "name": "stdout"
        }
      ]
    },
    {
      "cell_type": "code",
      "metadata": {
        "colab": {
          "base_uri": "https://localhost:8080/"
        },
        "id": "BPBqgI3LuIr8",
        "outputId": "6d6b0816-84f2-451d-b57d-8b97398e051c"
      },
      "source": [
        "# ejercicio 2\n",
        "Sue=float(input(\"Sueldo\"))\n",
        "\n",
        "S=1000*0.15+Sue\n",
        "if(Sue<1000):\n",
        "  print(\"Nuevo sueldo\",S)"
      ],
      "execution_count": 20,
      "outputs": [
        {
          "output_type": "stream",
          "text": [
            "Sueldo6\n",
            "Nuevo sueldo 156.0\n"
          ],
          "name": "stdout"
        }
      ]
    }
  ]
}