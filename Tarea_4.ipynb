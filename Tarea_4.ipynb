{
  "nbformat": 4,
  "nbformat_minor": 0,
  "metadata": {
    "colab": {
      "name": "Tarea 4",
      "provenance": [],
      "authorship_tag": "ABX9TyPxa4LJApJJPR+2ZLU3ouVa",
      "include_colab_link": true
    },
    "kernelspec": {
      "name": "python3",
      "display_name": "Python 3"
    }
  },
  "cells": [
    {
      "cell_type": "markdown",
      "metadata": {
        "id": "view-in-github",
        "colab_type": "text"
      },
      "source": [
        "<a href=\"https://colab.research.google.com/github/orlansx9/CYP_2021/blob/main/Tarea_4.ipynb\" target=\"_parent\"><img src=\"https://colab.research.google.com/assets/colab-badge.svg\" alt=\"Open In Colab\"/></a>"
      ]
    },
    {
      "cell_type": "code",
      "metadata": {
        "colab": {
          "base_uri": "https://localhost:8080/"
        },
        "id": "Po9MN5gtdOAJ",
        "outputId": "0698cd4b-e014-4ce6-8536-153b61766137"
      },
      "source": [
        "sueldo = float (input(\"ingrese el sueldo:\"))\n",
        "nsueldo = sueldo * 1.12\n",
        "if sueldo < 1000:\n",
        "  sueldo = sueldo * 1.15\n",
        "  print(sueldo)\n",
        "elif sueldo == 1000:\n",
        " sueldo = sueldo * 1.12\n",
        " print(sueldo)\n",
        "\n"
      ],
      "execution_count": 154,
      "outputs": [
        {
          "output_type": "stream",
          "text": [
            "ingrese el sueldo:680.70\n",
            "782.805\n"
          ],
          "name": "stdout"
        }
      ]
    },
    {
      "cell_type": "code",
      "metadata": {
        "colab": {
          "base_uri": "https://localhost:8080/"
        },
        "id": "icTYjnCZstEm",
        "outputId": "ff9e9d7b-6f50-4fb1-8580-b5e2b85cb2e6"
      },
      "source": [
        "categoria = int(input(\"Categoria: \"))\n",
        "salario = float(input(\"Salario: \"))\n",
        "if salario < 0 :\n",
        " print(\"No puede haber salarios negativos.\")\n",
        "else:\n",
        " if categoria > 0 and categoria < 5 :\n",
        "  if categoria == 1:\n",
        "   salario *= 1.15\n",
        "  elif categoria == 2:\n",
        "   salario *= 1.10\n",
        "  elif categoria == 3:\n",
        "   salario *= 1.08\n",
        "  elif categoria == 4:\n",
        "   salario *= 1.07\n",
        "print(f\"El salario total para un empleado categoria {categoria} es $ {salario}\")\n"
      ],
      "execution_count": 113,
      "outputs": [
        {
          "output_type": "stream",
          "text": [
            "Categoria: 4\n",
            "Salario: 6200\n",
            "El salario total para un empleado categoria 4 es $ 6634.0\n"
          ],
          "name": "stdout"
        }
      ]
    }
  ]
}