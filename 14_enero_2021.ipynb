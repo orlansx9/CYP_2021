{
  "nbformat": 4,
  "nbformat_minor": 0,
  "metadata": {
    "colab": {
      "name": "14_enero_2021.ipynb",
      "provenance": [],
      "authorship_tag": "ABX9TyMc/AAcnLTx6EH09H7UF9yJ",
      "include_colab_link": true
    },
    "kernelspec": {
      "name": "python3",
      "display_name": "Python 3"
    }
  },
  "cells": [
    {
      "cell_type": "markdown",
      "metadata": {
        "id": "view-in-github",
        "colab_type": "text"
      },
      "source": [
        "<a href=\"https://colab.research.google.com/github/orlansx9/CYP_2021/blob/main/14_enero_2021.ipynb\" target=\"_parent\"><img src=\"https://colab.research.google.com/assets/colab-badge.svg\" alt=\"Open In Colab\"/></a>"
      ]
    },
    {
      "cell_type": "code",
      "metadata": {
        "colab": {
          "base_uri": "https://localhost:8080/"
        },
        "id": "POi2gPn05otn",
        "outputId": "9b82ba6c-2e21-438e-a5f2-faca2a2ed4ee"
      },
      "source": [
        "import keyword\r\n",
        "pr = keyword.kwlist\r\n",
        "print(len(pr))\r\n",
        "for palabra in pr:\r\n",
        "  print(\"1.\" , palabra)"
      ],
      "execution_count": 3,
      "outputs": [
        {
          "output_type": "stream",
          "text": [
            "33\n",
            "1. False\n",
            "1. None\n",
            "1. True\n",
            "1. and\n",
            "1. as\n",
            "1. assert\n",
            "1. break\n",
            "1. class\n",
            "1. continue\n",
            "1. def\n",
            "1. del\n",
            "1. elif\n",
            "1. else\n",
            "1. except\n",
            "1. finally\n",
            "1. for\n",
            "1. from\n",
            "1. global\n",
            "1. if\n",
            "1. import\n",
            "1. in\n",
            "1. is\n",
            "1. lambda\n",
            "1. nonlocal\n",
            "1. not\n",
            "1. or\n",
            "1. pass\n",
            "1. raise\n",
            "1. return\n",
            "1. try\n",
            "1. while\n",
            "1. with\n",
            "1. yield\n"
          ],
          "name": "stdout"
        }
      ]
    },
    {
      "cell_type": "markdown",
      "metadata": {
        "id": "hxaGzYXS6bgV"
      },
      "source": [
        "# palabras reservadas en python 3\r\n",
        "33\r\n",
        "1. False\r\n",
        "1. None\r\n",
        "1. True\r\n",
        "1. and\r\n",
        "1. as\r\n",
        "1. assert\r\n",
        "1. break\r\n",
        "1. class\r\n",
        "1. continue\r\n",
        "1. def\r\n",
        "1. del\r\n",
        "1. elif\r\n",
        "1. else\r\n",
        "1. except\r\n",
        "1. finally\r\n",
        "1. for\r\n",
        "1. from\r\n",
        "1. global\r\n",
        "1. if\r\n",
        "1. import\r\n",
        "1. in\r\n",
        "1. is\r\n",
        "1. lambda\r\n",
        "1. nonlocal\r\n",
        "1. not\r\n",
        "1. or\r\n",
        "1. pass\r\n",
        "1. raise\r\n",
        "1. return\r\n",
        "1. try\r\n",
        "1. while\r\n",
        "1. with\r\n",
        "1. yield"
      ]
    },
    {
      "cell_type": "markdown",
      "metadata": {
        "id": "k8iysENF65Ux"
      },
      "source": [
        "## variable \r\n",
        "es una espacio de memoria de la computadora para almacenar valores que cambian a lo largo de la ejecucion del programa, este espacio de memoria esta referenciado por un identificador, el cuala tiene ciertas reglas de nombrado.\r\n",
        "- no puede iniciar con numero\r\n",
        "- no debe ser igual a alguna de las palabras reservadas \r\n",
        "- puede iniciar con guion bajo\r\n",
        "- evitar nombres de variables largos\r\n",
        "- evitar muy cortos, ejemplo : x, y, i\r\n",
        "- usar notacion snake_case\r\n",
        "-"
      ]
    },
    {
      "cell_type": "code",
      "metadata": {
        "colab": {
          "base_uri": "https://localhost:8080/",
          "height": 129
        },
        "id": "pa51OxgI7rhH",
        "outputId": "9489d577-5101-42a1-caf3-2dffe66ded96"
      },
      "source": [
        "_2edad = 12\r\n",
        "print(_2edad)\r\n",
        "\"\"\"\r\n",
        "no see puede usar una palabra reservada como identificador de varibale:\r\n",
        "for = 12\r\n",
        "print(for)\r\n",
        "\"\"\""
      ],
      "execution_count": 5,
      "outputs": [
        {
          "output_type": "error",
          "ename": "SyntaxError",
          "evalue": "ignored",
          "traceback": [
            "\u001b[0;36m  File \u001b[0;32m\"<ipython-input-5-e781736ef46a>\"\u001b[0;36m, line \u001b[0;32m3\u001b[0m\n\u001b[0;31m    for = 12\u001b[0m\n\u001b[0m        ^\u001b[0m\n\u001b[0;31mSyntaxError\u001b[0m\u001b[0;31m:\u001b[0m invalid syntax\n"
          ]
        }
      ]
    },
    {
      "cell_type": "code",
      "metadata": {
        "id": "LKl8sDq_89gx"
      },
      "source": [
        "\"\"\"\r\n",
        "la notacion snake case consta de formar el identificador de variables \r\n",
        "seperando las palabras del mismo con un guion bajo\r\n",
        "\r\n",
        "se recomienda que los identificadores se escriban en minuscula para las variables\r\n",
        "y en mayusculas para las constantes\r\n",
        "\r\n",
        "es decir si tenemos una variable para los dias de la semana se escribiria\r\n",
        "\r\n",
        "dias_de_la_semana_ = 7\r\n",
        "dias_mes = 31\r\n",
        "limite_maximo_ = 100\r\n",
        "\"\"\""
      ],
      "execution_count": null,
      "outputs": []
    },
    {
      "cell_type": "markdown",
      "metadata": {
        "id": "De33d0lz94eK"
      },
      "source": [
        "# tipos de datos\r\n",
        "- numericos\r\n",
        "  - int (1,2,12454, etc)\r\n",
        "  - float 4 bytes (1, 14, 3.1416, 1.0)\r\n",
        "  - long 8 bytes (1,2, 23454, etc)\r\n",
        "  - complex  3 + 2j (raices negativas)\r\n",
        "\r\n",
        "- booleano: true o false\r\n",
        "- string cadenas de caracteres(\"\" , ´´ o \"\"\")\r\n",
        "- listas ([1,2,3,] , [a,b,1,2,3])\r\n",
        "- tuplas ( (edad,23) , (3,4) )\r\n",
        "- cojuntos\r\n",
        "diccionarios ( {\"nombre\":\"juan\"})\r\n"
      ]
    },
    {
      "cell_type": "markdown",
      "metadata": {
        "id": "Lmmbz3TrESVK"
      },
      "source": [
        "# tipo de dato string\r\n",
        "este tipo de dato permite almacenar cadenas de caracteres como por ejemplo:\r\n",
        "\"\"\"\r\n",
        "nombre = 'jesus'\r\n",
        "lugar_nacimiento = \"mexico df. , tacuba\"\r\n",
        "frase favorita = \"\"\"\r\n",
        "el conocimiento me persigue,\r\n",
        "pero...\r\n",
        "yo soy mas rapido!!!\r\n",
        ":)\r\n",
        "\"\"\""
      ]
    },
    {
      "cell_type": "code",
      "metadata": {
        "colab": {
          "base_uri": "https://localhost:8080/",
          "height": 129
        },
        "id": "D1dr_2t9FUjh",
        "outputId": "1fe08dee-f906-4194-96ab-3ec707498d77"
      },
      "source": [
        "\"\"\"\r\n",
        "nombre = 'jesus'\r\n",
        "lugar_nacimiento = \"mexico df. , tacuba\"\r\n",
        "frase favorita = \"\"\"\r\n",
        "el conocimiento me persigue,\r\n",
        "pero...\r\n",
        "yo soy mas rapido!!!\r\n",
        ":)\r\n",
        "\"\"\""
      ],
      "execution_count": 6,
      "outputs": [
        {
          "output_type": "error",
          "ename": "SyntaxError",
          "evalue": "ignored",
          "traceback": [
            "\u001b[0;36m  File \u001b[0;32m\"<ipython-input-6-bc48d33c4700>\"\u001b[0;36m, line \u001b[0;32m5\u001b[0m\n\u001b[0;31m    el conocimiento me persigue,\u001b[0m\n\u001b[0m                  ^\u001b[0m\n\u001b[0;31mSyntaxError\u001b[0m\u001b[0;31m:\u001b[0m invalid syntax\n"
          ]
        }
      ]
    },
    {
      "cell_type": "markdown",
      "metadata": {
        "id": "9hOla7A0FpGf"
      },
      "source": [
        "# stings como arreglo\r\n",
        "un string en python es almacenado como el tipo de dato (estructura de datos) arreglo\r\n",
        "por ejemplo la declaracion:\r\n",
        "\"\"\"\r\n",
        "nombre = jesus\r\n",
        "\"\"\"\r\n",
        "el elemento j es alamcenado en una arreglo en la posicion 0\r\n",
        "la en en la 1 y asi sucesivamente\r\n",
        "### selector\r\n",
        "la notacion para selecciona un elemento del arreglo es:\r\n",
        "```\r\n",
        "[1]\r\n",
        "```\r\n",
        "donde el valor debe ser un valor numerico entero"
      ]
    },
    {
      "cell_type": "code",
      "metadata": {
        "colab": {
          "base_uri": "https://localhost:8080/"
        },
        "id": "WAhaVuxPGInU",
        "outputId": "114d1b25-5f82-4339-fdc7-c44d79b8f4a4"
      },
      "source": [
        "nombre = 'jesus'\r\n",
        "print(nombre)\r\n",
        "print(nombre[0])\r\n",
        "print(nombre[3])"
      ],
      "execution_count": 7,
      "outputs": [
        {
          "output_type": "stream",
          "text": [
            "jesus\n",
            "j\n",
            "u\n"
          ],
          "name": "stdout"
        }
      ]
    },
    {
      "cell_type": "markdown",
      "metadata": {
        "id": "i8x09o2IHhor"
      },
      "source": [
        "# iterar sobre un sting\r\n",
        "se puede iterar sobre un string con un for de la forma:\r\n",
        "\r\n",
        "```\r\n",
        "for letra in range(len(nombre)):\r\n",
        "print(letra)\r\n",
        "```"
      ]
    },
    {
      "cell_type": "code",
      "metadata": {
        "colab": {
          "base_uri": "https://localhost:8080/"
        },
        "id": "d6FpV4oOIaLn",
        "outputId": "b2035661-bbed-4e74-fdd6-07072fdb7557"
      },
      "source": [
        "for indice in range(len(nombre)):\r\n",
        " print(indice, end= \" \")\r\n",
        " print(nombre[indice])"
      ],
      "execution_count": 8,
      "outputs": [
        {
          "output_type": "stream",
          "text": [
            "0 j\n",
            "1 e\n",
            "2 s\n",
            "3 u\n",
            "4 s\n"
          ],
          "name": "stdout"
        }
      ]
    },
    {
      "cell_type": "markdown",
      "metadata": {
        "id": "pXKLvHvdKJZM"
      },
      "source": [
        "# funcion range(inicio, stop, incremento)\r\n",
        "el inicio es opcional y por defecto tiene el valor 0\r\n",
        "el incremento tambien es opcional y por defecto es 1"
      ]
    },
    {
      "cell_type": "code",
      "metadata": {
        "colab": {
          "base_uri": "https://localhost:8080/"
        },
        "id": "9UjGL_0FJxWV",
        "outputId": "d1de1ef4-66fc-4e50-c090-e92cd1c708c7"
      },
      "source": [
        "for indice in range(1, len(nombre) , 1 ):\r\n",
        "  print(nombre[indice])\r\n"
      ],
      "execution_count": 10,
      "outputs": [
        {
          "output_type": "stream",
          "text": [
            "e\n",
            "s\n",
            "u\n",
            "s\n"
          ],
          "name": "stdout"
        }
      ]
    },
    {
      "cell_type": "code",
      "metadata": {
        "colab": {
          "base_uri": "https://localhost:8080/"
        },
        "id": "Uu7ohQeeLllT",
        "outputId": "1546f823-55e6-4bb5-f111-4ca72dcfbb0d"
      },
      "source": [
        "for indice in range (4, -1, -1):\r\n",
        "  print(nombre[indice])"
      ],
      "execution_count": 11,
      "outputs": [
        {
          "output_type": "stream",
          "text": [
            "s\n",
            "u\n",
            "s\n",
            "e\n",
            "j\n"
          ],
          "name": "stdout"
        }
      ]
    },
    {
      "cell_type": "markdown",
      "metadata": {
        "id": "kZ8ij4ifLy8y"
      },
      "source": [
        "# string e indexado negativo\r\n",
        "en python 3 se agrega una nueva caracteristica a los arreglos de las cadenas de caracteres esta consta de la capacidad de indexar de forma negativa\r\n",
        "\r\n",
        "la logica es la siguiente\r\n",
        "\r\n",
        "el ultimo elemento se le considera como indice (ALTERNATIVO) -1 con lo cual se podria referenciar el final de la cadena sin la necesidad de saber el tamaño de la misma\r\n",
        "```\r\n",
        "nombre = jesus\r\n",
        "\r\n",
        "indice normal 0 1 2 3 4\r\n",
        "              j e s u s\r\n",
        "indice alter -5 -4 -3 -2 -1\r\n",
        "```"
      ]
    },
    {
      "cell_type": "code",
      "metadata": {
        "colab": {
          "base_uri": "https://localhost:8080/"
        },
        "id": "Sj02I023Mj1c",
        "outputId": "521fea34-2975-4cef-b181-5b7a1c7c55cf"
      },
      "source": [
        "nombre = \"Orlando\"\r\n",
        "print(nombre[4])\r\n",
        "print(nombre[-1])\r\n",
        "print(\"\")\r\n",
        "for indice_alter in range(-1, -6, -1):\r\n",
        "  print(nombre[indice_alter])"
      ],
      "execution_count": 15,
      "outputs": [
        {
          "output_type": "stream",
          "text": [
            "n\n",
            "o\n",
            "\n",
            "o\n",
            "d\n",
            "n\n",
            "a\n",
            "l\n"
          ],
          "name": "stdout"
        }
      ]
    },
    {
      "cell_type": "markdown",
      "metadata": {
        "id": "sf_yEJAiP2-S"
      },
      "source": [
        "# slicing de cadena de caracteres\r\n",
        "esta caracteristica permite saccar secciones de una cadena con la siguiente sintaxsis\r\n"
      ]
    },
    {
      "cell_type": "code",
      "metadata": {
        "colab": {
          "base_uri": "https://localhost:8080/"
        },
        "id": "n9ocxDeJQcnw",
        "outputId": "988a4a83-1ed2-496c-ab30-9098bbf33828"
      },
      "source": [
        "facultad = \"facultad de estudios superiores aragon (la mejor)\"\r\n",
        "print(facultad)\r\n",
        "for indice in range(12,20, 1):\r\n",
        " print(facultad[indice], end=\"\")\r\n",
        " \r\n",
        " #hacer esto mismo con la caracteristica slicing se logra asi:\r\n",
        " print(\"\\ncon slicing\")\r\n",
        " print(facultad[12:20:1])\r\n",
        "\r\n",
        " # la palabra de con slicing\r\n",
        " "
      ],
      "execution_count": 27,
      "outputs": [
        {
          "output_type": "stream",
          "text": [
            "facultad de estudios superiores aragon (la mejor)\n",
            "e\n",
            "con slicing\n",
            "estudios\n",
            "s\n",
            "con slicing\n",
            "estudios\n",
            "t\n",
            "con slicing\n",
            "estudios\n",
            "u\n",
            "con slicing\n",
            "estudios\n",
            "d\n",
            "con slicing\n",
            "estudios\n",
            "i\n",
            "con slicing\n",
            "estudios\n",
            "o\n",
            "con slicing\n",
            "estudios\n",
            "s\n",
            "con slicing\n",
            "estudios\n"
          ],
          "name": "stdout"
        }
      ]
    }
  ]
}