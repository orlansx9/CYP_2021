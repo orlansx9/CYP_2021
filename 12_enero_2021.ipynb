{
  "nbformat": 4,
  "nbformat_minor": 0,
  "metadata": {
    "colab": {
      "name": "12-enero-2021.ipynb",
      "provenance": [],
      "authorship_tag": "ABX9TyNvVviA9/PUhNMSiNgqheOK",
      "include_colab_link": true
    },
    "kernelspec": {
      "name": "python3",
      "display_name": "Python 3"
    }
  },
  "cells": [
    {
      "cell_type": "markdown",
      "metadata": {
        "id": "view-in-github",
        "colab_type": "text"
      },
      "source": [
        "<a href=\"https://colab.research.google.com/github/orlansx9/CYP_2021/blob/main/12_enero_2021.ipynb\" target=\"_parent\"><img src=\"https://colab.research.google.com/assets/colab-badge.svg\" alt=\"Open In Colab\"/></a>"
      ]
    },
    {
      "cell_type": "code",
      "metadata": {
        "id": "qxKUzcT5mVFT"
      },
      "source": [
        ""
      ],
      "execution_count": null,
      "outputs": []
    },
    {
      "cell_type": "markdown",
      "metadata": {
        "id": "2oketw58pU9c"
      },
      "source": [
        "# introdiccion a python\r\n",
        "- creado en los 90´s por Guido Van R.\r\n",
        "- en el 2000 pyton mejora y tienen nuevas caracteristicas.\r\n",
        "- en el 2020 deja de ser la version oficial python 2.7 y solo se le dara soporte a python 3 en adelante\r\n",
        "\r\n",
        "## caracteristicas de python\r\n",
        "1. lenguaje de proposito general.\r\n",
        "2. interpretado y no compilado\r\n",
        "3. tipos de datos dinamicos (numericos, de cadena , bool entre otros)\r\n",
        "4. multiplataforma\r\n",
        "5. lenguaje multi-paradigma (imperativa, POO y funcional)\r\n",
        "6. codigo es estructurado por indentacion\r\n",
        "2. con signos+\r\n",
        "3. format()\r\n",
        "el operador f\"\r\n",
        "#### con comas\r\n",
        "concatena los argumentos enviados a print y les agrega un espacio\r\n",
        "\r\n",
        "####con signos+\r\n",
        "concatena los valores sin espacio y sin hace conversion de tipos \r\n",
        "\r\n",
        "#### con la funciona format()\r\n",
        "permite darle formato a la salida de la impresion de variales. emplea la funcion formar de el tipo de dato string\r\n",
        "\"\"\"\r\n",
        "\" caddena {} a forma{}tear \".format(vl,v2,vn)\r\n",
        "\"\"\" \r\n",
        "emplea como comodines para sustituir valores los signos {}\r\n",
        "\r\n",
        "#### con el operador f\"\"\r\n",
        "es una variante de la forma anterior pero enmascarando la funcion format()\r\n",
        "\r\n",
        "print(f\r\n",
        "#funcion print() y los caracteres de escape\r\n",
        "- \\n salto de linea\r\n",
        "- \\t tabulador\r\n",
        "- \\\\imprimir la diagonal \\\r\n",
        "- y\"\r\n",
        "- \\uxxx\r\n",
        "- \\uxxxxxxx\r\n",
        "\r\n",
        "## print y salto de linea en el argumento\r\n",
        "\r\n",
        "print([lista de variables] , end=\"\\n\"\r\n"
      ]
    },
    {
      "cell_type": "code",
      "metadata": {
        "colab": {
          "base_uri": "https://localhost:8080/",
          "height": 129
        },
        "id": "5mX94_NUxLd0",
        "outputId": "7fdcd949-e4d9-46b9-aa90-79a0715479e3"
      },
      "source": [
        "print(\"hola\", nombre, edad)\r\n",
        "print(\"hola\" + nombre + str(edad))\r\n",
        "# nombre: jose, con una edad de 18 años\r\n",
        "print(\"nombre:\" , nombre, \"con una edad de:\" edad, \"años\")\r\n",
        "print(\"nombre:\" + nombre + \" con una edad de: \" + str(edad))\r\n",
        "# con format()\r\n",
        "print(\"nombre: jose, con una edad de : 18 años.\".formar(nombre,edad))\r\n",
        "# con el operador f \"\"\r\n",
        "print(f\"nombre: {nombre} con una edad de : {edad} años. \")\r\n"
      ],
      "execution_count": 2,
      "outputs": [
        {
          "output_type": "error",
          "ename": "SyntaxError",
          "evalue": "ignored",
          "traceback": [
            "\u001b[0;36m  File \u001b[0;32m\"<ipython-input-2-17bdd0185a77>\"\u001b[0;36m, line \u001b[0;32m4\u001b[0m\n\u001b[0;31m    print(\"nombre:\" , nombre, \"con una edd de:\" edad, \"años\")\u001b[0m\n\u001b[0m                                                   ^\u001b[0m\n\u001b[0;31mSyntaxError\u001b[0m\u001b[0;31m:\u001b[0m invalid syntax\n"
          ]
        }
      ]
    },
    {
      "cell_type": "code",
      "metadata": {
        "colab": {
          "base_uri": "https://localhost:8080/"
        },
        "id": "rZeFDHJ_267k",
        "outputId": "ad84d2d9-94a0-482f-e6e6-1569a4c11197"
      },
      "source": [
        "print('\"')\r\n",
        "print(\"\\\"\")\r\n",
        "print(\"nombre: jose\\n\\tcon una edad \\\\de: 18 años\")\r\n",
        "#caracteres unicode\r\n",
        "print(\"hola \\u2661\")\r\n",
        "print(\"hola \\u553f\")"
      ],
      "execution_count": 12,
      "outputs": [
        {
          "output_type": "stream",
          "text": [
            "\"\n",
            "\"\n",
            "nombre: jose\n",
            "\tcon una edad \\de: 18 años\n",
            "hola ♡\n",
            "hola 唿\n"
          ],
          "name": "stdout"
        }
      ]
    },
    {
      "cell_type": "code",
      "metadata": {
        "colab": {
          "base_uri": "https://localhost:8080/"
        },
        "id": "4WLM1tf78ctC",
        "outputId": "eeac4f96-bfaa-4b6b-c54b-31395a029d1d"
      },
      "source": [
        "print(\"hola \" , end=\"\\u13cd\")\r\n",
        "print(\"mundo \" , end=\"++++ \")\r\n",
        "print(\"fin \" , end=\"\\n\")"
      ],
      "execution_count": 18,
      "outputs": [
        {
          "output_type": "stream",
          "text": [
            "hola Ꮝmundo ++++ fin \n"
          ],
          "name": "stdout"
        }
      ]
    },
    {
      "cell_type": "markdown",
      "metadata": {
        "id": "DbIdYBSh9vmC"
      },
      "source": [
        "# un comentario en python\r\n",
        "un comentario en programacion es una texto especial que es ignorado por el interprete o compilador (segun sea el caso) y es empleado para qu el programador documente sus algoritmos\r\n",
        "\r\n",
        "existen de dos tipos: de linea simple y de multiple linea\r\n",
        "\r\n",
        "en pytho\r\n",
        "- linea simple emplea #\r\n"
      ]
    },
    {
      "cell_type": "code",
      "metadata": {
        "colab": {
          "base_uri": "https://localhost:8080/"
        },
        "id": "OOOYt7Na-jUi",
        "outputId": "fc0a7dff-0493-450a-ce22-679099793fa7"
      },
      "source": [
        "print(\"hola \")\r\n",
        "#print(\"hola \")\r\n",
        "#cualquier cosa\r\n",
        "print(\"hola \")\r\n",
        "print(\"hola \") # esta linea imprime hola\r\n",
        "print(\"hola \")\r\n",
        "print(\"hola \")\r\n",
        "\"\"\"\r\n",
        "esto es\r\n",
        "uncomentario de multiple linea ideal\r\n",
        "para cuando se desea explicar algo a fondo que requiera mayor detalle\r\n",
        "\"\"\"\r\n",
        "print(\"hola \")\r\n",
        "print(\"hola \")\r\n",
        "print(\"hola \")\r\n",
        "print(\"hola \")"
      ],
      "execution_count": 19,
      "outputs": [
        {
          "output_type": "stream",
          "text": [
            "hola \n",
            "hola \n",
            "hola \n",
            "hola \n",
            "hola \n",
            "hola \n",
            "hola \n",
            "hola \n",
            "hola \n"
          ],
          "name": "stdout"
        }
      ]
    },
    {
      "cell_type": "markdown",
      "metadata": {
        "id": "tyl-IRynxNO-"
      },
      "source": [
        ""
      ]
    }
  ]
}