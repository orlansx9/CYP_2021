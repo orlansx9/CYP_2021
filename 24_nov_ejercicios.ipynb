{
  "nbformat": 4,
  "nbformat_minor": 0,
  "metadata": {
    "colab": {
      "name": "24_nov_ejercicios",
      "provenance": [],
      "authorship_tag": "ABX9TyMciRIq929JN8XeXEJhm+sF",
      "include_colab_link": true
    },
    "kernelspec": {
      "name": "python3",
      "display_name": "Python 3"
    }
  },
  "cells": [
    {
      "cell_type": "markdown",
      "metadata": {
        "id": "view-in-github",
        "colab_type": "text"
      },
      "source": [
        "<a href=\"https://colab.research.google.com/github/orlansx9/CYP_2021/blob/main/24_nov_ejercicios.ipynb\" target=\"_parent\"><img src=\"https://colab.research.google.com/assets/colab-badge.svg\" alt=\"Open In Colab\"/></a>"
      ]
    },
    {
      "cell_type": "code",
      "metadata": {
        "colab": {
          "base_uri": "https://localhost:8080/"
        },
        "id": "NZazJpUP3qCE",
        "outputId": "75bbb84e-194d-4edc-8f28-283ae9b5ec04"
      },
      "source": [
        "# ejercicio 1.1\n",
        "PREPRO = 0\n",
        "PAGO = 0\n",
        "DEVO = 0\n",
        "PREPRO = float (input(\"precio del producto \"))\n",
        "PAGO = float (input(\"pago del cliente \"))\n",
        "DEVO = (PAGO - PREPRO)\n",
        "print(f\" el cambio es de {DEVO}\")\n"
      ],
      "execution_count": 51,
      "outputs": [
        {
          "output_type": "stream",
          "text": [
            "precio del producto 86.25\n",
            "pago del cliente 100\n",
            " el cambio es de 13.75\n"
          ],
          "name": "stdout"
        }
      ]
    },
    {
      "cell_type": "code",
      "metadata": {
        "colab": {
          "base_uri": "https://localhost:8080/"
        },
        "id": "gqpUbkwC4MrZ",
        "outputId": "30eb722f-183a-478d-fd3d-f5018ebfb461"
      },
      "source": [
        "#ejercicio 1.2\n",
        "BASE = 0\n",
        "ALTURA = 0\n",
        "SUPERFICIE = 0\n",
        "BASE = float (input(\"base del triangulo \"))\n",
        "ALTURA = float (input(\"altura del triangulo \"))\n",
        "SUPERFICIE = (BASE * ALTURA) / 2 \n",
        "print(f\"la superficie es {SUPERFICIE}\")\n"
      ],
      "execution_count": 52,
      "outputs": [
        {
          "output_type": "stream",
          "text": [
            "base del triangulo 8.50\n",
            "altura del triangulo 7.20\n",
            "la superficie es30.6\n"
          ],
          "name": "stdout"
        }
      ]
    },
    {
      "cell_type": "code",
      "metadata": {
        "colab": {
          "base_uri": "https://localhost:8080/"
        },
        "id": "_kBZVFpSFn8b",
        "outputId": "cd2ee335-b394-4233-e86d-611aac02f224"
      },
      "source": [
        "# ejercicio 1.3\n",
        "DINOSAURIO = 0\n",
        "PESO = 0\n",
        "LONGITUD = 0\n",
        "DINOSAURIO =  (input (\"NOMBRE DEL DINOSAURIO \"))\n",
        "PESO = int (input(\"peso del dinosaurio  en toneladas \"))\n",
        "PESO = PESO * 1000\n",
        "LONGITUD = float (input(\"longitud del dinosaurio en pies \"))\n",
        "LONGITUD = LONGITUD * 0.3048\n",
        "print(DINOSAURIO)\n",
        "print (f\"peso en kg {PESO}, longitud en metros {PESO}\")"
      ],
      "execution_count": 33,
      "outputs": [
        {
          "output_type": "stream",
          "text": [
            "NOMBRE DEL DINOSAURIO chicha\n",
            "peso del dinosaurio  en toneladas 10\n",
            "longitud del dinosaurio en pies 100\n",
            "chicha\n",
            "peso en kg 10000, longitud en metros 10000\n"
          ],
          "name": "stdout"
        }
      ]
    },
    {
      "cell_type": "code",
      "metadata": {
        "colab": {
          "base_uri": "https://localhost:8080/"
        },
        "id": "jhPWkNIDk_9i",
        "outputId": "a41be825-7f27-4862-8d35-7a7c347c30c8"
      },
      "source": [
        "# ejercicio 1.4\n",
        "LITROS = 0\n",
        "GALONES = 0\n",
        "TOTAL = 0\n",
        "LITROS = float (input(\"ingresa litros \"))\n",
        "GALONES = LITROS * 3.785 * 8.20\n",
        "print(f\" total {GALONES}\")\n"
      ],
      "execution_count": 41,
      "outputs": [
        {
          "output_type": "stream",
          "text": [
            "ingresa litros 10.38\n",
            " total 322.16406\n"
          ],
          "name": "stdout"
        }
      ]
    },
    {
      "cell_type": "code",
      "metadata": {
        "colab": {
          "base_uri": "https://localhost:8080/"
        },
        "id": "jokHPowFuD_N",
        "outputId": "e6a39089-e92e-441c-a7c9-b17d490f422f"
      },
      "source": [
        "# ejercicio 1.5\n",
        "RADIO = 0\n",
        "ALTURA = 0\n",
        "AREA = 0\n",
        "VOLUMEN = 0\n",
        "RADIO = float (input(\"Ingresa el radio \"))\n",
        "ALTURA = float (input(\"Ingresa la altura \"))\n",
        "VOLUMEN = 3.141592 * (RADIO ** 2) * ALTURA\n",
        "AREA = 2 * 3.141592 * RADIO * ALTURA\n",
        "print(f\" volumen {VOLUMEN}, area {AREA}\")"
      ],
      "execution_count": 43,
      "outputs": [
        {
          "output_type": "stream",
          "text": [
            "Ingresa el radio45.22\n",
            "Ingresa la altura11.60\n",
            " volumen 74519.32074597248, area 3295.856733568\n"
          ],
          "name": "stdout"
        }
      ]
    },
    {
      "cell_type": "code",
      "metadata": {
        "colab": {
          "base_uri": "https://localhost:8080/"
        },
        "id": "7k9lOB8J2DmN",
        "outputId": "eb58e9ae-2e9a-4486-8249-ad17119450c0"
      },
      "source": [
        "#ejercicio 1.6\n",
        "DIAS = 0\n",
        "TOTAL = 0\n",
        "DIAS = int (input(\"DIAS \"))\n",
        "TOTAL = DIAS * 24 * 60 * 60\n",
        "print(f\"En {DIAS} hay {TOTAL} segundos \")"
      ],
      "execution_count": 48,
      "outputs": [
        {
          "output_type": "stream",
          "text": [
            "DIAS 7\n",
            "En 7 hay 604800 segundos \n"
          ],
          "name": "stdout"
        }
      ]
    }
  ]
}