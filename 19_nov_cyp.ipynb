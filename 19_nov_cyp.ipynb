{
  "nbformat": 4,
  "nbformat_minor": 0,
  "metadata": {
    "colab": {
      "name": "19_nov_cyp",
      "provenance": [],
      "authorship_tag": "ABX9TyNpvawRG3kXIToqcSAgMFnm",
      "include_colab_link": true
    },
    "kernelspec": {
      "name": "python3",
      "display_name": "Python 3"
    }
  },
  "cells": [
    {
      "cell_type": "markdown",
      "metadata": {
        "id": "view-in-github",
        "colab_type": "text"
      },
      "source": [
        "<a href=\"https://colab.research.google.com/github/orlansx9/CYP_2021/blob/main/19_nov_cyp.ipynb\" target=\"_parent\"><img src=\"https://colab.research.google.com/assets/colab-badge.svg\" alt=\"Open In Colab\"/></a>"
      ]
    },
    {
      "cell_type": "code",
      "metadata": {
        "colab": {
          "base_uri": "https://localhost:8080/"
        },
        "id": "ghbLAdBCg78p",
        "outputId": "2cbf55c7-cb30-4ad6-c82a-64c9ee734af3"
      },
      "source": [
        "# concepto de asignacion\n",
        "I = 0\n",
        "I = I + 1\n",
        "I = I + 1\n",
        "print(f\"I = {I}\")\n",
        "J = 5 ** 2 / 3\n",
        "print(f\"J = {J}\")"
      ],
      "execution_count": 4,
      "outputs": [
        {
          "output_type": "stream",
          "text": [
            "I = 2\n",
            "J = 8.333333333333334\n"
          ],
          "name": "stdout"
        }
      ]
    },
    {
      "cell_type": "code",
      "metadata": {
        "colab": {
          "base_uri": "https://localhost:8080/"
        },
        "id": "3wzRJtY5mwcU",
        "outputId": "666a6009-5cd0-46c8-ffef-61e42f0c9156"
      },
      "source": [
        "# declaracion de variables ( reservando memoria)\n",
        "A = 0\n",
        "B = 0\n",
        "C = 0\n",
        "D = 0\n",
        "\n",
        "A = int(input (\" dame un valor entero:\"))\n",
        "B = int(input (\" dame un valor entero:\"))\n",
        "C = int(input (\" dame un valor entero:\"))\n",
        "D = int(input (\" dame un valor entero:\"))\n",
        "\n",
        "print(D)\n",
        "print(C)\n",
        "print(B)\n",
        "print(A)"
      ],
      "execution_count": 6,
      "outputs": [
        {
          "output_type": "stream",
          "text": [
            " dame un valor entero:10\n",
            " dame un valor entero:20\n",
            " dame un valor entero:30\n",
            " dame un valor entero:40\n",
            "40\n",
            "30\n",
            "20\n",
            "10\n"
          ],
          "name": "stdout"
        }
      ]
    },
    {
      "cell_type": "code",
      "metadata": {
        "colab": {
          "base_uri": "https://localhost:8080/"
        },
        "id": "5u0qh1oEoqRQ",
        "outputId": "98153d6b-45b8-4d1e-c772-3894872bec5d"
      },
      "source": [
        "# ejemplo 1.7\n",
        "A = 0\n",
        "B = 0\n",
        "A = int(input(\" dame un entero:\"))\n",
        "B = int(input(\" dame otro entero:\"))\n",
        "RES = (A + B) **2 / 3\n",
        "print(RES)"
      ],
      "execution_count": 8,
      "outputs": [
        {
          "output_type": "stream",
          "text": [
            " dame un entero:14\n",
            " dame otro entero:-5\n",
            "27.0\n"
          ],
          "name": "stdout"
        }
      ]
    },
    {
      "cell_type": "code",
      "metadata": {
        "colab": {
          "base_uri": "https://localhost:8080/"
        },
        "id": "EYy6heaauG8f",
        "outputId": "a9a4a267-3a69-4cd8-8638-c1ff272cf90e"
      },
      "source": [
        "CAL1 = 0\n",
        "CAL2 = 0\n",
        "CAL3 = 0\n",
        "CAL4 = 0\n",
        "CAL5 = 0\n",
        "MAT = 0\n",
        "PRO = 0\n",
        "MAT = int(input(\"escrible matricula:\"))\n",
        "CAL1 = float(input(\"dame la CAL1:\"))\n",
        "CAL2 = float(input(\"dame la CAL2:\"))\n",
        "CAL3 = float(input(\"dame la CAL3:\"))\n",
        "CAL4 = float(input(\"dame la CAL4:\"))\n",
        "CAL5 = float(input(\"dame la CAL5:\"))\n",
        "PRO = (CAL1 + CAL2 + CAL3 + CAL4 + CAL5) / 5 \n",
        "\n",
        "print(PRO)\n",
        "print(MAT)"
      ],
      "execution_count": 16,
      "outputs": [
        {
          "output_type": "stream",
          "text": [
            "escrible matricula419104427\n",
            "dame la CAL1:9\n",
            "dame la CAL2:9\n",
            "dame la CAL3:9\n",
            "dame la CAL4:9\n",
            "dame la CAL5:9\n",
            "9.0\n",
            "419104427\n"
          ],
          "name": "stdout"
        }
      ]
    },
    {
      "cell_type": "code",
      "metadata": {
        "colab": {
          "base_uri": "https://localhost:8080/"
        },
        "id": "cVhUl1PfzvQE",
        "outputId": "eabac79b-2e26-4a01-fc82-ac58eeafeef0"
      },
      "source": [
        "# ejemplo 1.9\n",
        "CUA = NUM ** 2\n",
        "CUB = NUM ** 3\n",
        "\n",
        "NUM = int(input(\"dame un numero\"))\n",
        "\n",
        "print(CUA, CUB)\n",
        "\n"
      ],
      "execution_count": 57,
      "outputs": [
        {
          "output_type": "stream",
          "text": [
            "dame un numero2\n",
            "4 8\n"
          ],
          "name": "stdout"
        }
      ]
    },
    {
      "cell_type": "code",
      "metadata": {
        "colab": {
          "base_uri": "https://localhost:8080/"
        },
        "id": "Q_b9JvCH7rZf",
        "outputId": "8aed7754-c03d-4e8f-ef54-5ba8ba765390"
      },
      "source": [
        "# ejemplo 1.10\n",
        "base = 0\n",
        "altura = 0\n",
        "sup = 0\n",
        "per = 0\n",
        "base = float(input(\"base del rectangualo \\n\"))\n",
        "altura = float(input(\"altura del rectangualo \\n\"))\n",
        "\n",
        "sup=base * altura\n",
        "per = 2*(base + altura)\n",
        "\n",
        "print(f\"área  {sup} perimetro {per}\")"
      ],
      "execution_count": 65,
      "outputs": [
        {
          "output_type": "stream",
          "text": [
            "base del rectangualo \n",
            "6\n",
            "altura del rectangualo \n",
            "4\n",
            "área  24.0 perimetro 20.0\n"
          ],
          "name": "stdout"
        }
      ]
    }
  ]
}