{
  "nbformat": 4,
  "nbformat_minor": 0,
  "metadata": {
    "colab": {
      "name": "Untitled4.ipynb",
      "provenance": [],
      "authorship_tag": "ABX9TyNbvXQQdVVsPNYGImB7cT+u",
      "include_colab_link": true
    },
    "kernelspec": {
      "name": "python3",
      "display_name": "Python 3"
    }
  },
  "cells": [
    {
      "cell_type": "markdown",
      "metadata": {
        "id": "view-in-github",
        "colab_type": "text"
      },
      "source": [
        "<a href=\"https://colab.research.google.com/github/orlansx9/CYP_2021/blob/main/Untitled4.ipynb\" target=\"_parent\"><img src=\"https://colab.research.google.com/assets/colab-badge.svg\" alt=\"Open In Colab\"/></a>"
      ]
    },
    {
      "cell_type": "code",
      "metadata": {
        "id": "ie_oPiWdpdgb",
        "colab": {
          "base_uri": "https://localhost:8080/"
        },
        "outputId": "783cfd29-cbab-4c13-8e69-e93d55276a41"
      },
      "source": [
        "#ejercicio 3.1\n",
        "nom = 0\n",
        "nomina = 0\n",
        "\n",
        "for i in range(1, 12):\n",
        "   nom = float(input(f\"ingrese el sueldo {i} \"))\n",
        "\n",
        "   nomina += nom\n",
        "print(f\"la nomina es {nomina}\")"
      ],
      "execution_count": null,
      "outputs": [
        {
          "output_type": "stream",
          "text": [
            "ingrese el sueldo 1 1\n",
            "ingrese el sueldo 2 1500\n",
            "ingrese el sueldo 3 890\n",
            "ingrese el sueldo 4 700\n",
            "ingrese el sueldo 5 950\n",
            "ingrese el sueldo 6 2300\n",
            "ingrese el sueldo 7 1650\n",
            "ingrese el sueldo 8 1800\n",
            "ingrese el sueldo 9 1400\n",
            "ingrese el sueldo 10 760\n",
            "ingrese el sueldo 11 900\n",
            "la nomina es 12851.0\n"
          ],
          "name": "stdout"
        }
      ]
    },
    {
      "cell_type": "code",
      "metadata": {
        "id": "1cYkqyBgQ40R",
        "colab": {
          "base_uri": "https://localhost:8080/"
        },
        "outputId": "0d01f8c6-abcf-40e6-e4eb-bc8e5805f543"
      },
      "source": [
        "# ejercicio 3.4\n",
        "montototal = 0\n",
        "flag = 1.0\n",
        "while flag > 0.0:\n",
        "  aux = float (input(\"Monto \"))\n",
        "  montototal += (aux if aux >0.0 else 0.0)\n",
        "  flag = aux\n",
        "print(f\" el total es {montototal}\")"
      ],
      "execution_count": 1,
      "outputs": [
        {
          "output_type": "stream",
          "text": [
            "Monto 2528\n",
            "Monto 3500\n",
            "Monto 1600\n",
            "Monto 1850\n",
            "Monto 150\n",
            "Monto -1\n",
            " el total es 9628.0\n"
          ],
          "name": "stdout"
        }
      ]
    }
  ]
}