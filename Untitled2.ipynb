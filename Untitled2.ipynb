{
  "nbformat": 4,
  "nbformat_minor": 0,
  "metadata": {
    "colab": {
      "name": "Untitled2.ipynb",
      "provenance": [],
      "authorship_tag": "ABX9TyMp1SnH/97l9owajMpkErMS",
      "include_colab_link": true
    },
    "kernelspec": {
      "name": "python3",
      "display_name": "Python 3"
    }
  },
  "cells": [
    {
      "cell_type": "markdown",
      "metadata": {
        "id": "view-in-github",
        "colab_type": "text"
      },
      "source": [
        "<a href=\"https://colab.research.google.com/github/orlansx9/CYP_2021/blob/main/Untitled2.ipynb\" target=\"_parent\"><img src=\"https://colab.research.google.com/assets/colab-badge.svg\" alt=\"Open In Colab\"/></a>"
      ]
    },
    {
      "cell_type": "code",
      "metadata": {
        "id": "Z3ECEELlcHHE",
        "outputId": "cb69d60c-6603-46ec-b31a-9f43b2fd6652",
        "colab": {
          "base_uri": "https://localhost:8080/"
        }
      },
      "source": [
        "numero=int (input(\"dame un numero\"))\n",
        "if numero >0:\n",
        "   print(\"el numero es positivo\")\n",
        "\n",
        "print(\"fin del programa\")"
      ],
      "execution_count": 2,
      "outputs": [
        {
          "output_type": "stream",
          "text": [
            "dame un numero5\n",
            "el numero es positivo\n",
            "fin del programa\n"
          ],
          "name": "stdout"
        }
      ]
    },
    {
      "cell_type": "code",
      "metadata": {
        "id": "_ih6nRZYfCVT",
        "outputId": "b9232c27-4c25-46c4-c5b3-740d76600c45",
        "colab": {
          "base_uri": "https://localhost:8080/"
        }
      },
      "source": [
        "numero=int (input(\"digite un numero\"))\n",
        "if numero >0:\n",
        "  print(\"el numero es positivo\")\n",
        "else:\n",
        "  print(\"el numero es negativo\")\n"
      ],
      "execution_count": 5,
      "outputs": [
        {
          "output_type": "stream",
          "text": [
            "digite un numero-2\n",
            "el numero es negativo\n"
          ],
          "name": "stdout"
        }
      ]
    },
    {
      "cell_type": "code",
      "metadata": {
        "id": "pa86vOmOhACi",
        "outputId": "7b5ac9c4-fd3b-4e70-bc0e-e36b30bee902",
        "colab": {
          "base_uri": "https://localhost:8080/"
        }
      },
      "source": [
        "numero=int (input(\"dame un numero\"))\n",
        "if numero >0:\n",
        "   print(\"el numero es positivo\")\n",
        "elif numero==0:\n",
        "  print(\"el numero es cero\")\n",
        "else:\n",
        "  print(\"el numero es negativo\")\n",
        "print(\"fin del programa\")"
      ],
      "execution_count": 8,
      "outputs": [
        {
          "output_type": "stream",
          "text": [
            "dame un numero0\n",
            "el numero es cero\n",
            "fin del programa\n"
          ],
          "name": "stdout"
        }
      ]
    },
    {
      "cell_type": "code",
      "metadata": {
        "id": "vDQJyaSik1wh"
      },
      "source": [
        ""
      ],
      "execution_count": null,
      "outputs": []
    },
    {
      "cell_type": "code",
      "metadata": {
        "id": "5qCSAaJJiVOO"
      },
      "source": [
        ""
      ],
      "execution_count": null,
      "outputs": []
    }
  ]
}