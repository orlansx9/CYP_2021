{
  "nbformat": 4,
  "nbformat_minor": 0,
  "metadata": {
    "colab": {
      "name": "26_enero_2021.ipynb",
      "provenance": [],
      "authorship_tag": "ABX9TyO9zNoTTQh7BvNmu03jsq+H",
      "include_colab_link": true
    },
    "kernelspec": {
      "name": "python3",
      "display_name": "Python 3"
    }
  },
  "cells": [
    {
      "cell_type": "markdown",
      "metadata": {
        "id": "view-in-github",
        "colab_type": "text"
      },
      "source": [
        "<a href=\"https://colab.research.google.com/github/orlansx9/CYP_2021/blob/main/26_enero_2021.ipynb\" target=\"_parent\"><img src=\"https://colab.research.google.com/assets/colab-badge.svg\" alt=\"Open In Colab\"/></a>"
      ]
    },
    {
      "cell_type": "code",
      "metadata": {
        "id": "6rW1MzSps0NV"
      },
      "source": [
        ""
      ],
      "execution_count": null,
      "outputs": []
    },
    {
      "cell_type": "markdown",
      "metadata": {
        "id": "EDVt2y_JtLhB"
      },
      "source": [
        "# Listas de python 3 \r\n",
        "1. es una estructura de datos lineal de 0 o n elementos\r\n",
        "1. \"equivalente\" a los arreglos\r\n",
        "1. pueden ser de diferente tipo de dato [1,2,32,12] , [1, true , 2.34, \"hola\"]\r\n",
        "1.pueden ser anidados, listas de listas [\"melon\", \"manzana roja\", \"manzana amarilla\"]\r\n",
        "1. su selector es de la forma: [int] \r\n",
        "1. son mutables."
      ]
    },
    {
      "cell_type": "code",
      "metadata": {
        "colab": {
          "base_uri": "https://localhost:8080/"
        },
        "id": "IGh52v3Tu772",
        "outputId": "9c9c378b-d9bc-464e-f386-b54bd9e176e1"
      },
      "source": [
        "# ejemplos\r\n",
        "numeros = [4,2,45,7,83,3]\r\n",
        "print(numeros)\r\n",
        "print(numeros[2])\r\n",
        "\r\n",
        "# una lista de 0 elementos\r\n",
        "colores = [] # lista()\r\n",
        "type(colores) # averiguar que tipo de dato es una variable con la funcion type\r\n",
        "dias = list()\r\n",
        "print(colores)\r\n",
        "print(dias)\r\n"
      ],
      "execution_count": 4,
      "outputs": [
        {
          "output_type": "stream",
          "text": [
            "[4, 2, 45, 7, 83, 3]\n",
            "45\n",
            "[]\n",
            "[]\n"
          ],
          "name": "stdout"
        }
      ]
    },
    {
      "cell_type": "code",
      "metadata": {
        "colab": {
          "base_uri": "https://localhost:8080/"
        },
        "id": "A8g3Jt85wJcF",
        "outputId": "4397ed45-abe3-403c-87ef-72fa87c42c4f"
      },
      "source": [
        "# pueden de diferente tipo de datos\r\n",
        "mi_lista = [1,2,3, \"jose\", False , 1.76, [555565995, 55546268894,2595984664]]\r\n",
        "print(mi_lista)\r\n",
        "print(mi_lista[5])\r\n",
        "print(mi_lista[6][1])\r\n",
        "print(mi_lista[3][3])\r\n",
        "print(mi_lista[3][3::])\r\n",
        "print(mi_lista[3][-1::1])\r\n"
      ],
      "execution_count": 13,
      "outputs": [
        {
          "output_type": "stream",
          "text": [
            "[1, 2, 3, 'jose', False, 1.76, [555565995, 55546268894, 2595984664]]\n",
            "1.76\n",
            "55546268894\n",
            "e\n",
            "e\n",
            "e\n"
          ],
          "name": "stdout"
        }
      ]
    },
    {
      "cell_type": "code",
      "metadata": {
        "colab": {
          "base_uri": "https://localhost:8080/"
        },
        "id": "5y2cmVU_0ab_",
        "outputId": "4827c404-0f1e-4026-8e69-045ccfffdd4f"
      },
      "source": [
        "frutas = [\"melon\", \"sandia\", \"kiwi\", \"aguacate\", \"mango\", \"platano\"]\r\n",
        "print(frutas)\r\n",
        "frutas[0] = \"Melón\"\r\n",
        "print(frutas)\r\n",
        "#frutas[1] = \"S\"\r\n",
        "#print(frutas)\r\n",
        "#frutas[1][0] = \"S\"\r\n",
        "frutas[1] = frutas[1].capitalize()\r\n",
        "print(frutas)"
      ],
      "execution_count": 16,
      "outputs": [
        {
          "output_type": "stream",
          "text": [
            "['melon', 'sandia', 'kiwi', 'aguacate', 'mango', 'platano']\n",
            "['Melón', 'sandia', 'kiwi', 'aguacate', 'mango', 'platano']\n",
            "['Melón', 'Sandia', 'kiwi', 'aguacate', 'mango', 'platano']\n"
          ],
          "name": "stdout"
        }
      ]
    },
    {
      "cell_type": "code",
      "metadata": {
        "colab": {
          "base_uri": "https://localhost:8080/"
        },
        "id": "6N4UdKEc2FQT",
        "outputId": "50641705-aa88-4bd6-a611-e5fa21f44366"
      },
      "source": [
        "# las listas son clases por lo tanto, tienen metodos\r\n",
        "# ejemplo: append, agrega un elemento al final\r\n",
        "frutas = [\"melon\", \"sandia\", \"kiwi\", \"aguacate\", \"mango\", \"platano\"]\r\n",
        "frutas.append(\"fresa\")\r\n",
        "print(frutas)\r\n",
        "\r\n",
        "print(\"ejemplo de copias\")\r\n",
        "otras_frutas = frutas\r\n",
        "print(frutas)\r\n",
        "print(otras_frutas)\r\n",
        "otras_frutas[0] = \"chico zapote\"\r\n",
        "print(otras_frutas)\r\n",
        "print(frutas)\r\n",
        "print(\"------------\")\r\n",
        "\r\n",
        "print(\"ejemplo de extend\")\r\n",
        "colores = (\"rojo\", \"verde\", \"azul\")\r\n",
        "frutas.extend(colores)\r\n",
        "print(frutas)\r\n",
        "\r\n",
        "print(\"ejemplo insert\")\r\n",
        "frutas.insert(3, \"limon\")\r\n",
        "print(frutas)\r\n",
        "\r\n",
        "print(\"ejemplo remove, eliminar kiwi\")\r\n",
        "frutas.remove(\"kiwi\")\r\n",
        "print(frutas)\r\n",
        "\r\n",
        "frutas.clear()\r\n",
        "print(frutas)"
      ],
      "execution_count": 24,
      "outputs": [
        {
          "output_type": "stream",
          "text": [
            "['melon', 'sandia', 'kiwi', 'aguacate', 'mango', 'platano', 'fresa']\n",
            "ejemplo de copias\n",
            "['melon', 'sandia', 'kiwi', 'aguacate', 'mango', 'platano', 'fresa']\n",
            "['melon', 'sandia', 'kiwi', 'aguacate', 'mango', 'platano', 'fresa']\n",
            "['chico zapote', 'sandia', 'kiwi', 'aguacate', 'mango', 'platano', 'fresa']\n",
            "['chico zapote', 'sandia', 'kiwi', 'aguacate', 'mango', 'platano', 'fresa']\n",
            "------------\n",
            "ejemplo de extend\n",
            "['chico zapote', 'sandia', 'kiwi', 'aguacate', 'mango', 'platano', 'fresa', 'rojo', 'verde', 'azul']\n",
            "ejemplo insert\n",
            "['chico zapote', 'sandia', 'kiwi', 'limon', 'aguacate', 'mango', 'platano', 'fresa', 'rojo', 'verde', 'azul']\n",
            "ejemplo remove, eliminar kiwi\n",
            "['chico zapote', 'sandia', 'limon', 'aguacate', 'mango', 'platano', 'fresa', 'rojo', 'verde', 'azul']\n",
            "[]\n"
          ],
          "name": "stdout"
        }
      ]
    },
    {
      "cell_type": "code",
      "metadata": {
        "colab": {
          "base_uri": "https://localhost:8080/"
        },
        "id": "eV7zlvAdCeaj",
        "outputId": "27a6fde9-2084-4542-d6fa-03f6500ff4e2"
      },
      "source": [
        "cosas = [\"jose\",True,2,3,4,5,\"pedro\",1.23]\r\n",
        "indice = 0\r\n",
        "a_eliminar=[]\r\n",
        "for elemento in cosas:\r\n",
        "    if isinstance( elemento , int ) :\r\n",
        "        print(\"entero\",elemento) # cosas.remove(elemento)\r\n",
        "        a_eliminar.append(elemento)\r\n",
        "    indice += 1\r\n",
        "\r\n",
        "print(a_eliminar)\r\n",
        "for indice in a_eliminar:\r\n",
        "    print( indice)\r\n",
        "    cosas.remove(indice)\r\n",
        "print(cosas)"
      ],
      "execution_count": 25,
      "outputs": [
        {
          "output_type": "stream",
          "text": [
            "entero True\n",
            "entero 2\n",
            "entero 3\n",
            "entero 4\n",
            "entero 5\n",
            "[True, 2, 3, 4, 5]\n",
            "True\n",
            "2\n",
            "3\n",
            "4\n",
            "5\n",
            "['jose', 'pedro', 1.23]\n"
          ],
          "name": "stdout"
        }
      ]
    },
    {
      "cell_type": "code",
      "metadata": {
        "colab": {
          "base_uri": "https://localhost:8080/"
        },
        "id": "MZglc3bxFHs_",
        "outputId": "3696f4f4-ec3f-44fe-87b4-cd3ebf282065"
      },
      "source": [
        "# slicing sobre listas\r\n",
        "frutas = [\"melon\", \"sandia\", \"kiwi\", \"aguacate\", \"mango\", \"platano\"]\r\n",
        "print(frutas[1:4:])\r\n",
        "\r\n",
        "sistemas_operativos = [\"windows\",\"mac os\", \"linux\", \"android\"]\r\n",
        "autos = [\"ford\", \"mazda\", \"honda\"]\r\n",
        "cosas = [sistemas_operativos, autos]\r\n",
        "print(cosas)\r\n",
        "print(cosas[1])\r\n",
        "print(cosas[0])"
      ],
      "execution_count": 28,
      "outputs": [
        {
          "output_type": "stream",
          "text": [
            "['sandia', 'kiwi', 'aguacate']\n",
            "[['windows', 'mac os', 'linux', 'android'], ['ford', 'mazda', 'honda']]\n",
            "['ford', 'mazda', 'honda']\n"
          ],
          "name": "stdout"
        }
      ]
    }
  ]
}