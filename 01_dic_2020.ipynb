{
  "nbformat": 4,
  "nbformat_minor": 0,
  "metadata": {
    "colab": {
      "name": "01_dic_2020",
      "provenance": [],
      "authorship_tag": "ABX9TyPivL3KZ/qrh9lSI+KfW/FU",
      "include_colab_link": true
    },
    "kernelspec": {
      "name": "python3",
      "display_name": "Python 3"
    }
  },
  "cells": [
    {
      "cell_type": "markdown",
      "metadata": {
        "id": "view-in-github",
        "colab_type": "text"
      },
      "source": [
        "<a href=\"https://colab.research.google.com/github/orlansx9/CYP_2021/blob/main/01_dic_2020.ipynb\" target=\"_parent\"><img src=\"https://colab.research.google.com/assets/colab-badge.svg\" alt=\"Open In Colab\"/></a>"
      ]
    },
    {
      "cell_type": "code",
      "metadata": {
        "colab": {
          "base_uri": "https://localhost:8080/"
        },
        "id": "yxC3kTNjYDwV",
        "outputId": "b8d56e42-2541-46a9-cdde-5abc577f78e0"
      },
      "source": [
        "#Ejemplo 1\n",
        "#Pedir 3 numeros enteros y se debe de mostrar el mayor de los tres\n",
        "\n",
        "num1 = int(input(\"Dame el numero 1: \"))\n",
        "num2 = int(input(\"Dame el numero 2: \"))\n",
        "num3 = int(input(\"Dame el numero 3: \"))\n",
        "\n",
        "if num1 > num2 and num1 > num3:\n",
        "  print(\"El numero mayor es: \", num1)\n",
        "elif num2 > num3:\n",
        "  print(\"El numero mayor es: \", num2)\n",
        "else:\n",
        "  print(\"El numero mayor es: \", num3)"
      ],
      "execution_count": 20,
      "outputs": [
        {
          "output_type": "stream",
          "text": [
            "Dame el numero 1: 3\n",
            "Dame el numero 2: 6\n",
            "Dame el numero 3: 8\n",
            "El numero mayor es:  8\n"
          ],
          "name": "stdout"
        }
      ]
    },
    {
      "cell_type": "code",
      "metadata": {
        "colab": {
          "base_uri": "https://localhost:8080/"
        },
        "id": "N1oFZinJYJkd",
        "outputId": "01358b70-0877-47d2-99cc-4ac958b104db"
      },
      "source": [
        "#Ejemplo 2\n",
        "print(\"Ingrese el nombre del trabajador\")\n",
        "nombre=str (input())\n",
        "print(\"¿Cuantas horas trabajo esta semana?\",nombre,\":\" )\n",
        "horas=int (input())\n",
        "print(\"¿Cuanto se le paga por hora?:\")\n",
        "sueldoH= float (input())\n",
        "\n",
        "#Evaluar su sueldo\n",
        "\n",
        "if (horas<=40):\n",
        "  pago = horas*sueldoH\n",
        "  print(nombre,\"Su pago total es de $\",pago)\n",
        "\n",
        "else:\n",
        "  extras = horas - 40\n",
        "  pago = 40*sueldoH\n",
        "  pagoFinal = pago + ((extras * sueldoH)*2)\n",
        "  print(nombre,\"Su pago total es de $\",pagoFinal)"
      ],
      "execution_count": 21,
      "outputs": [
        {
          "output_type": "stream",
          "text": [
            "Ingrese el nombre del trabajador\n",
            "fbh\n",
            "¿Cuantas horas trabajo esta semana? fbh :\n",
            "5\n",
            "¿Cuanto se le paga por hora?:\n",
            "6\n",
            "fbh Su pago total es de $ 30.0\n"
          ],
          "name": "stdout"
        }
      ]
    },
    {
      "cell_type": "code",
      "metadata": {
        "colab": {
          "base_uri": "https://localhost:8080/"
        },
        "id": "8bhAnOVTiri-",
        "outputId": "0a67c18c-1bed-4df1-81b1-cd0007e71823"
      },
      "source": [
        "#ejemplo 3\n",
        "print(\"Ingrese el nombre del trabajador\")\n",
        "nombre=input()\n",
        "print(\"Cuantas horas trabajo esta semana\", nombre, \":\")\n",
        "horas=int(input())\n",
        "print(\"Cuanto se paga por hora?:\")\n",
        "sueldoH=float(input())\n",
        "\n",
        "#Evaluar el sueldo\n",
        "\n",
        "if(horas<=40):\n",
        "  pago=horas*sueldoH\n",
        "  print(\"El sueldo de\",nombre,\"es $\", pago)\n",
        "\n",
        "elif(horas>40 and horas <=50):\n",
        "  extrasDobles=horas-40\n",
        "  print(\"Horas extras:\",extrasDobles)\n",
        "  pago=40*sueldoH\n",
        "  print(\"Sueldo $\", pago)\n",
        "  pagoDoble=extrasDobles*sueldoH*2\n",
        "  print(\"pago de horas dobles $\", pagoDoble)\n",
        "  pagoFinal=pago+pagoDoble\n",
        "  print(\"El sueldo de\",nombre,\"es $\", pagoFinal)\n",
        "\n",
        "elif ((horas>=51 and horas <=60 )):\n",
        "    extrasTriples=horas-50\n",
        "    print(\"horas extra dobles:10\")\n",
        "    print(\"horas extra triples:\", extrasTriples)\n",
        "    pago=40*sueldoH\n",
        "    print(\"sueldo base: $\", pago)\n",
        "    pagoDoble=10*sueldoH*2\n",
        "    print(\"pago de horas extras dobles:\", pagoDoble)\n",
        "    pagoTriple=extrasTriples*sueldoH*3\n",
        "    print(\"pago de horas extra triples:\" ,pagoTriple)\n",
        "    pagoFinal=pago+pagoDoble+pagoTriple\n",
        "    print(\"El sueldo de\",nombre,\"es $\", pagoFinal)\n",
        "\n",
        "else:\n",
        "  extrasTriples =10 \n",
        "  print(\"horas extra dobles 10\")\n",
        "  print(\"horas extras triples 10\")\n",
        "  pago= 40 * sueldoH\n",
        "  print(\"sueldo Base:$\", pago)\n",
        "  pagoDoble= 10 * sueldoH* 2\n",
        "  print(\"pago de horas extra Dobles:\", pagoDoble)\n",
        "  pagoTriple = extrasTriples * sueldoH * 3\n",
        "  print(\"pago de horas extras triples:\", pagoTriple)\n",
        "  print(\"incentivo por trabajar mas de 60 horas:$ $2000\")\n",
        "  pagoFinal = pago + pagoDoble + pagoTriple + 2000\n",
        "  print(\"el sueldo final de:\", nombre, \"es $\",pagoFinal)\n"
      ],
      "execution_count": 22,
      "outputs": [
        {
          "output_type": "stream",
          "text": [
            "Ingrese el nombre del trabajador\n",
            "kio\n",
            "Cuantas horas trabajo esta semana kio :\n",
            "6\n",
            "Cuanto se paga por hora?:\n",
            "4\n",
            "El sueldo de kio es $ 24.0\n"
          ],
          "name": "stdout"
        }
      ]
    },
    {
      "cell_type": "code",
      "metadata": {
        "colab": {
          "base_uri": "https://localhost:8080/"
        },
        "id": "hhX0lRPQobeO",
        "outputId": "a13ceaa0-09e7-4f94-9235-c6a00995ce6d"
      },
      "source": [
        "#estructura for\n",
        "#ejemplo 1\n",
        "for estaciones_año in [\"primavera\", \"verano\",\"otoño\",\"invierno\", \"venus\"]: #in palabra reservada\n",
        " print(estaciones_año)\n",
        " #variables que suelen formas parte de for \"i\""
      ],
      "execution_count": 19,
      "outputs": [
        {
          "output_type": "stream",
          "text": [
            "primavera\n",
            "verano\n",
            "otoño\n",
            "invierno\n",
            "venus\n"
          ],
          "name": "stdout"
        }
      ]
    }
  ]
}