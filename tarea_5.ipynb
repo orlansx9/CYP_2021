{
  "nbformat": 4,
  "nbformat_minor": 0,
  "metadata": {
    "colab": {
      "name": "tarea 5",
      "provenance": [],
      "authorship_tag": "ABX9TyPMeK98HNuhs36tjKAMYKUL",
      "include_colab_link": true
    },
    "kernelspec": {
      "name": "python3",
      "display_name": "Python 3"
    }
  },
  "cells": [
    {
      "cell_type": "markdown",
      "metadata": {
        "id": "view-in-github",
        "colab_type": "text"
      },
      "source": [
        "<a href=\"https://colab.research.google.com/github/orlansx9/CYP_2021/blob/main/tarea_5.ipynb\" target=\"_parent\"><img src=\"https://colab.research.google.com/assets/colab-badge.svg\" alt=\"Open In Colab\"/></a>"
      ]
    },
    {
      "cell_type": "code",
      "metadata": {
        "colab": {
          "base_uri": "https://localhost:8080/"
        },
        "id": "VAme6Oew0otk",
        "outputId": "ffcc268a-0b19-40df-fd67-4d80a44c88c8"
      },
      "source": [
        "#ejercicio 3.1\n",
        "sueldo1 = int (input(\"ingrese sueldo del trabajador 1 \"))\n",
        "sueldo2 = int (input(\"ingrese sueldo del trabajador 2 \"))\n",
        "sueldo3 = int (input(\"ingrese sueldo del trabajador 3 \"))\n",
        "sueldo4 = int (input(\"ingrese sueldo del trabajador 4 \"))\n",
        "sueldo5 = int (input(\"ingrese sueldo del trabajador 5 \"))\n",
        "sueldo6 = int (input(\"ingrese sueldo del trabajador 6 \"))\n",
        "sueldo7 = int (input(\"ingrese sueldo del trabajador 7 \"))\n",
        "sueldo8 = int (input(\"ingrese sueldo del trabajador 8 \"))\n",
        "sueldo9 = int (input(\"ingrese sueldo del trabajador 9 \"))\n",
        "sueldo10 = int (input(\"ingrese sueldo del trabajador 10 \"))\n",
        "sueldo11 = int (input(\"ingrese sueldo del trabajador 11 \"))\n",
        "nomina = sueldo1 + sueldo2 + sueldo3 + sueldo4 + sueldo5 + sueldo6 + sueldo7 + sueldo8 + sueldo9 + sueldo10 + sueldo11\n",
        "print(f\"la nomina total es {nomina}\")"
      ],
      "execution_count": 7,
      "outputs": [
        {
          "output_type": "stream",
          "text": [
            "ingrese sueldo del trabajador 1 0\n",
            "ingrese sueldo del trabajador 2 1500\n",
            "ingrese sueldo del trabajador 3 890\n",
            "ingrese sueldo del trabajador 4 700\n",
            "ingrese sueldo del trabajador 5 950\n",
            "ingrese sueldo del trabajador 6 2300\n",
            "ingrese sueldo del trabajador 7 1650\n",
            "ingrese sueldo del trabajador 8 1800\n",
            "ingrese sueldo del trabajador 9 1400\n",
            "ingrese sueldo del trabajador 10 760\n",
            "ingrese sueldo del trabajador 11 900\n",
            "la nomina total es 12850\n"
          ],
          "name": "stdout"
        }
      ]
    },
    {
      "cell_type": "code",
      "metadata": {
        "colab": {
          "base_uri": "https://localhost:8080/"
        },
        "id": "V6StVftW2tlS",
        "outputId": "694e58cc-40a8-41d2-b902-305cd3ec39e0"
      },
      "source": [
        "# ejercicio 3.4\n",
        "montototal = 0\n",
        "flag = 1.0\n",
        "while flag > 0.0:\n",
        "  aux = float (input(\"Monto \"))\n",
        "  montototal += (aux if aux >0.0 else 0.0)\n",
        "  flag = aux\n",
        "print(f\" el total es {montototal}\")"
      ],
      "execution_count": 8,
      "outputs": [
        {
          "output_type": "stream",
          "text": [
            "Monto 2528\n",
            "Monto 3500\n",
            "Monto 1600\n",
            "Monto 1850\n",
            "Monto 150\n",
            "Monto -1\n",
            " el total es 9628.0\n"
          ],
          "name": "stdout"
        }
      ]
    }
  ]
}