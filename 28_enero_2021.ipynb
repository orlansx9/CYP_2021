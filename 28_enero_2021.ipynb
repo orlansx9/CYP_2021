{
  "nbformat": 4,
  "nbformat_minor": 0,
  "metadata": {
    "colab": {
      "name": "28_enero_2021.ipynb",
      "provenance": [],
      "authorship_tag": "ABX9TyMYV8MgtqjC2Gl+ckVrFTCq",
      "include_colab_link": true
    },
    "kernelspec": {
      "name": "python3",
      "display_name": "Python 3"
    }
  },
  "cells": [
    {
      "cell_type": "markdown",
      "metadata": {
        "id": "view-in-github",
        "colab_type": "text"
      },
      "source": [
        "<a href=\"https://colab.research.google.com/github/orlansx9/CYP_2021/blob/main/28_enero_2021.ipynb\" target=\"_parent\"><img src=\"https://colab.research.google.com/assets/colab-badge.svg\" alt=\"Open In Colab\"/></a>"
      ]
    },
    {
      "cell_type": "markdown",
      "metadata": {
        "id": "Jyi6QF6pBnjU"
      },
      "source": [
        "# tuplas\r\n",
        "- tipo de dato lineal, estructura de datos\r\n",
        "- no mutable\r\n",
        "- puede contener de 0 a n elementos\r\n",
        "- se declara con '('y')'\r\n",
        "- no puedes agregar ni eliminar elementos\r\n",
        "- pueden ser anidadas\r\n",
        "- los argumentos a una funcion son enviadas como tuplas "
      ]
    },
    {
      "cell_type": "code",
      "metadata": {
        "colab": {
          "base_uri": "https://localhost:8080/",
          "height": 129
        },
        "id": "WZQHnvXWA7oA",
        "outputId": "00a2457c-e2ba-4e03-e6ac-7865cf29566b"
      },
      "source": [
        "frutas = ('sandia', 'melon', 'limon', 'mango')\r\n",
        "print(frutas)\r\n",
        "print(frutas[1:3:1])\r\n",
        "print(frutas.count('melon'))\r\n",
        "#son inmutables\r\n",
        "#frutas[1]= \"manzana\"\r\n",
        "#para que se usan?\r\n",
        "conexion = ('132.248.12.12', 3306, 'cyp_bd' ,'user_test' '1234dios')\r\n",
        "print({f\"usuario {conexion[3]} y password {conexion[4]}\")"
      ],
      "execution_count": 11,
      "outputs": [
        {
          "output_type": "error",
          "ename": "SyntaxError",
          "evalue": "ignored",
          "traceback": [
            "\u001b[0;36m  File \u001b[0;32m\"<ipython-input-11-a7493718a19f>\"\u001b[0;36m, line \u001b[0;32m9\u001b[0m\n\u001b[0;31m    print({f\"usuario {conexion[3]} y password {conexion[4]}\")\u001b[0m\n\u001b[0m                                                            ^\u001b[0m\n\u001b[0;31mSyntaxError\u001b[0m\u001b[0;31m:\u001b[0m invalid syntax\n"
          ]
        }
      ]
    },
    {
      "cell_type": "markdown",
      "metadata": {
        "id": "6gxXfgHcF4Se"
      },
      "source": [
        "#diccionarios\r\n",
        "- structura de datos semi lineal\r\n",
        "- fomada por pares, llave - valor\r\n",
        "- equivalente al tipo de dato JSON de javascript\r\n",
        "- utiliza organizacion  por funcion de dispercion\r\n",
        "- se declara con los elementos '('y')'\r\n",
        "- el selector usa valores de tipo string (llave)\r\n",
        "- no se puede seleccionar por offset[1]\r\n",
        "- son mutables"
      ]
    },
    {
      "cell_type": "code",
      "metadata": {
        "colab": {
          "base_uri": "https://localhost:8080/"
        },
        "id": "ZmcgjlhYG2zg",
        "outputId": "c5cce2a7-d0e2-4c1b-b509-8a3cbaf1d2ab"
      },
      "source": [
        "alumno = {'nombre' : 'juan perez', 'edad' : 18, 'altura' : 1.71, 'estatus':'aprobado','numeros' : [26556458, 45995295]}\r\n",
        "print(alumno)\r\n",
        "print(alumno['nombre'])\r\n",
        "\r\n",
        "#  kareli\r\n",
        "alumno = {    'nombre'  : 'Juan Pérez'  ,\r\n",
        "          'edad' : 18, \r\n",
        "          'Matricula': 312193,\r\n",
        "          'calificaciones' : {'Mate': 8 , 'ciencias': 9, 'ingles': 8 },\r\n",
        "          'aprovado' : True,\r\n",
        "          'direccion': {\r\n",
        "                        'calle':'Rancho seco',\r\n",
        "                        'numero': 's/n',\r\n",
        "                        'colonia': 'impulsora popular avicola',\r\n",
        "                        'municipio': 'Mi-nezota',\r\n",
        "                        'estado':{\r\n",
        "                                   'clave':15,\r\n",
        "                                   'nombre_clave':'MEX',\r\n",
        "                                   'nombre':\"Estado de México\"\r\n",
        "                                  }\r\n",
        "                       }\r\n",
        "          }"
      ],
      "execution_count": 24,
      "outputs": [
        {
          "output_type": "stream",
          "text": [
            "{'nombre': 'juan perez', 'edad': 18, 'altura': 1.71, 'estatus': 'aprobado', 'numeros': [26556458, 45995295]}\n",
            "juan perez\n"
          ],
          "name": "stdout"
        }
      ]
    },
    {
      "cell_type": "markdown",
      "metadata": {
        "id": "K-_ExmntVsBB"
      },
      "source": [
        "# manipulacion de los pares llave valor\r\n",
        "para ellos se emeplean los metodos:\r\n",
        "- keys () te regresa una tupla con los strings llave del diccionario \r\n",
        "- values () te regresa solo los valores\r\n",
        "- items () te regresa los pares"
      ]
    },
    {
      "cell_type": "code",
      "metadata": {
        "colab": {
          "base_uri": "https://localhost:8080/"
        },
        "id": "XW9De_8gWKb5",
        "outputId": "65321fe3-3133-48eb-d86c-016345e8a505"
      },
      "source": [
        "print(alumno)\r\n",
        "llaves = alumno.keys()\r\n",
        "print(llaves)\r\n",
        "for elem in llaves:\r\n",
        "  print(elem)\r\n",
        "  print(alumno[elem])\r\n",
        "\r\n",
        "#manipular los valores\r\n",
        "valores = alumno.values()\r\n",
        "print(valores)\r\n",
        "for val in valores:\r\n",
        "  print(val)\r\n",
        "\r\n",
        "# mannipular pares\r\n",
        "pares = alumno.items()\r\n",
        "print(pares)\r\n",
        "for par in pares:\r\n",
        "  print(par)"
      ],
      "execution_count": 31,
      "outputs": [
        {
          "output_type": "stream",
          "text": [
            "{'nombre': 'juan perez', 'edad': 18, 'altura': 1.71, 'estatus': 'aprobado', 'numeros': [26556458, 45995295]}\n",
            "dict_keys(['nombre', 'edad', 'altura', 'estatus', 'numeros'])\n",
            "nombre\n",
            "juan perez\n",
            "edad\n",
            "18\n",
            "altura\n",
            "1.71\n",
            "estatus\n",
            "aprobado\n",
            "numeros\n",
            "[26556458, 45995295]\n",
            "dict_values(['juan perez', 18, 1.71, 'aprobado', [26556458, 45995295]])\n",
            "juan perez\n",
            "18\n",
            "1.71\n",
            "aprobado\n",
            "[26556458, 45995295]\n",
            "dict_items([('nombre', 'juan perez'), ('edad', 18), ('altura', 1.71), ('estatus', 'aprobado'), ('numeros', [26556458, 45995295])])\n",
            "('nombre', 'juan perez')\n",
            "('edad', 18)\n",
            "('altura', 1.71)\n",
            "('estatus', 'aprobado')\n",
            "('numeros', [26556458, 45995295])\n"
          ],
          "name": "stdout"
        }
      ]
    }
  ]
}