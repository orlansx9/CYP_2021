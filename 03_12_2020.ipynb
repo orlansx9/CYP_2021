{
  "nbformat": 4,
  "nbformat_minor": 0,
  "metadata": {
    "colab": {
      "name": "03-12-2020",
      "provenance": [],
      "authorship_tag": "ABX9TyNaEXoKiEhX71K4Y+NIsF+3",
      "include_colab_link": true
    },
    "kernelspec": {
      "name": "python3",
      "display_name": "Python 3"
    }
  },
  "cells": [
    {
      "cell_type": "markdown",
      "metadata": {
        "id": "view-in-github",
        "colab_type": "text"
      },
      "source": [
        "<a href=\"https://colab.research.google.com/github/orlansx9/CYP_2021/blob/main/03_12_2020.ipynb\" target=\"_parent\"><img src=\"https://colab.research.google.com/assets/colab-badge.svg\" alt=\"Open In Colab\"/></a>"
      ]
    },
    {
      "cell_type": "code",
      "metadata": {
        "colab": {
          "base_uri": "https://localhost:8080/"
        },
        "id": "JIwA3y0ZlGfP",
        "outputId": "6d7fbbd0-cab1-4022-eb45-85eab500dfb0"
      },
      "source": [
        "#ejemplo 1\n",
        "for i in[1,2,3,5]:\n",
        "  print(f\"el elemento: {i}\")"
      ],
      "execution_count": 1,
      "outputs": [
        {
          "output_type": "stream",
          "text": [
            "el elemento: 1\n",
            "el elemento: 2\n",
            "el elemento: 3\n",
            "el elemento: 5\n"
          ],
          "name": "stdout"
        }
      ]
    },
    {
      "cell_type": "code",
      "metadata": {
        "colab": {
          "base_uri": "https://localhost:8080/"
        },
        "id": "VvloCvxknOXE",
        "outputId": "8a38a177-c68c-4e9e-970b-ec11e576bb05"
      },
      "source": [
        "coleccion = [1,2,3,4,5]\n",
        "for i in coleccion:\n",
        " print(f\"el elemento: {i}\")"
      ],
      "execution_count": 2,
      "outputs": [
        {
          "output_type": "stream",
          "text": [
            "el elemento: 1\n",
            "el elemento: 2\n",
            "el elemento: 3\n",
            "el elemento: 4\n",
            "el elemento: 5\n"
          ],
          "name": "stdout"
        }
      ]
    },
    {
      "cell_type": "code",
      "metadata": {
        "colab": {
          "base_uri": "https://localhost:8080/"
        },
        "id": "jXY1qEfVnr-h",
        "outputId": "28dd1f2b-4fa6-497d-d3d1-b427bef7732c"
      },
      "source": [
        "#ejemplo 2\n",
        "coleccion= {\"mario\":20, \"mariana\":19, \"yessica\":14, \"luis\":18}\n",
        "for i in coleccion:\n",
        "  print(f\"elemento:{i}\")"
      ],
      "execution_count": 4,
      "outputs": [
        {
          "output_type": "stream",
          "text": [
            "elemento:mario\n",
            "elemento:mariana\n",
            "elemento:yessica\n",
            "elemento:luis\n"
          ],
          "name": "stdout"
        }
      ]
    },
    {
      "cell_type": "code",
      "metadata": {
        "colab": {
          "base_uri": "https://localhost:8080/"
        },
        "id": "_9c0SU-9ouzf",
        "outputId": "5dd69f2a-051a-4526-9496-90ff1c1cd48b"
      },
      "source": [
        "#ejemplo 2\n",
        "coleccion= {\"mario\":20, \"mariana\":19, \"yessica\":14, \"luis\":18}\n",
        "for i in coleccion:\n",
        "  print(f\"{coleccion [i]}\")"
      ],
      "execution_count": 5,
      "outputs": [
        {
          "output_type": "stream",
          "text": [
            "20\n",
            "19\n",
            "14\n",
            "18\n"
          ],
          "name": "stdout"
        }
      ]
    },
    {
      "cell_type": "code",
      "metadata": {
        "colab": {
          "base_uri": "https://localhost:8080/"
        },
        "id": "J_w6sFlhpt_y",
        "outputId": "dd06b5a0-1f88-4386-b8fb-dcb973cd2829"
      },
      "source": [
        "coleccion= {\"mario\":20, \"mariana\":19, \"yessica\":14, \"luis\":18}\n",
        "for i in coleccion:\n",
        "  print(f\"{i}--> {coleccion[i]}\")"
      ],
      "execution_count": 6,
      "outputs": [
        {
          "output_type": "stream",
          "text": [
            "mario--> 20\n",
            "mariana--> 19\n",
            "yessica--> 14\n",
            "luis--> 18\n"
          ],
          "name": "stdout"
        }
      ]
    },
    {
      "cell_type": "code",
      "metadata": {
        "colab": {
          "base_uri": "https://localhost:8080/"
        },
        "id": "Pz_4SDb2rbam",
        "outputId": "2798edac-a8b9-45ae-a608-71ea709cc73b"
      },
      "source": [
        "coleccion= {\"mario\":20, \"mariana\":19, \"yessica\":14, \"luis\":18}\n",
        "for clave, valor in coleccion.items():\n",
        "  print(f\"{clave} -> {valor}\")"
      ],
      "execution_count": 7,
      "outputs": [
        {
          "output_type": "stream",
          "text": [
            "mario -> 20\n",
            "mariana -> 19\n",
            "yessica -> 14\n",
            "luis -> 18\n"
          ],
          "name": "stdout"
        }
      ]
    },
    {
      "cell_type": "code",
      "metadata": {
        "colab": {
          "base_uri": "https://localhost:8080/"
        },
        "id": "pDf_5rM3sNNh",
        "outputId": "ef341562-7eeb-4daf-e933-d0608108cbcb"
      },
      "source": [
        "#ejemplo 3 \n",
        "email = False\n",
        "for i in\"ariel@unam.mx\":\n",
        "  if(i ==\"@\"):\n",
        "    email= True\n",
        "if email == True:\n",
        "  print(\"el email es correcto\")\n",
        "else:\n",
        "  print(\"el correo no es correcto\")\n"
      ],
      "execution_count": 8,
      "outputs": [
        {
          "output_type": "stream",
          "text": [
            "el email es correcto\n"
          ],
          "name": "stdout"
        }
      ]
    },
    {
      "cell_type": "code",
      "metadata": {
        "colab": {
          "base_uri": "https://localhost:8080/"
        },
        "id": "a1_Z1bjStntL",
        "outputId": "8f2504d9-4ba1-4f89-88de-8dd883c38261"
      },
      "source": [
        "email= False\n",
        "miemail = input(\"introduce el correo electronico \")\n",
        "for i in miemail:\n",
        "  if(i ==\"@\"):\n",
        "    email= True\n",
        "if email: \n",
        "  print(\"el email es correcto\")\n",
        "else:\n",
        "  print(\"el correo no es correcto\")"
      ],
      "execution_count": 12,
      "outputs": [
        {
          "output_type": "stream",
          "text": [
            "introduce el correo electronico anita@unam.com\n",
            "el email es correcto\n"
          ],
          "name": "stdout"
        }
      ]
    },
    {
      "cell_type": "code",
      "metadata": {
        "colab": {
          "base_uri": "https://localhost:8080/"
        },
        "id": "_qXQtpB7vFJE",
        "outputId": "a45050fe-bc51-44b1-d359-0dd8d72ddcce"
      },
      "source": [
        "#for-Range\n",
        "for i in range (5):\n",
        "  print(\"hola\")"
      ],
      "execution_count": 13,
      "outputs": [
        {
          "output_type": "stream",
          "text": [
            "hola\n",
            "hola\n",
            "hola\n",
            "hola\n",
            "hola\n"
          ],
          "name": "stdout"
        }
      ]
    },
    {
      "cell_type": "code",
      "metadata": {
        "id": "eFfYUZN5vg0W"
      },
      "source": [
        "for i in range (5):\n",
        "  print(i)"
      ],
      "execution_count": null,
      "outputs": []
    },
    {
      "cell_type": "code",
      "metadata": {
        "colab": {
          "base_uri": "https://localhost:8080/"
        },
        "id": "py9aYQR0wRAK",
        "outputId": "d0564dd5-68f4-4658-bdce-4601879d6b5f"
      },
      "source": [
        "for i in range (20):\n",
        "  print(f\"valor de la variable {i}\")"
      ],
      "execution_count": 18,
      "outputs": [
        {
          "output_type": "stream",
          "text": [
            "valor de la variable 0\n",
            "valor de la variable 1\n",
            "valor de la variable 2\n",
            "valor de la variable 3\n",
            "valor de la variable 4\n",
            "valor de la variable 5\n",
            "valor de la variable 6\n",
            "valor de la variable 7\n",
            "valor de la variable 8\n",
            "valor de la variable 9\n",
            "valor de la variable 10\n",
            "valor de la variable 11\n",
            "valor de la variable 12\n",
            "valor de la variable 13\n",
            "valor de la variable 14\n",
            "valor de la variable 15\n",
            "valor de la variable 16\n",
            "valor de la variable 17\n",
            "valor de la variable 18\n",
            "valor de la variable 19\n"
          ],
          "name": "stdout"
        }
      ]
    },
    {
      "cell_type": "code",
      "metadata": {
        "id": "FWsZmg5q0WrH"
      },
      "source": [
        "#while ejemplos\n",
        "#ejemplo 1\n",
        "i = 1 \n",
        "while i<=10:\n",
        " print(\"ejecucion \"+ str (i))"
      ],
      "execution_count": null,
      "outputs": []
    },
    {
      "cell_type": "code",
      "metadata": {
        "colab": {
          "base_uri": "https://localhost:8080/"
        },
        "id": "RSI-xqc7z4-u",
        "outputId": "24bd5211-7ef4-4b1e-a2a0-75c877509c4a"
      },
      "source": [
        "i = 1\n",
        "while i <=10:\n",
        "  print(\"ejecucion \"+ str (i))\n",
        "  i = i+1 # contador, es decir "
      ],
      "execution_count": 23,
      "outputs": [
        {
          "output_type": "stream",
          "text": [
            "ejecucion 1\n",
            "ejecucion 2\n",
            "ejecucion 3\n",
            "ejecucion 4\n",
            "ejecucion 5\n",
            "ejecucion 6\n",
            "ejecucion 7\n",
            "ejecucion 8\n",
            "ejecucion 9\n",
            "ejecucion 10\n"
          ],
          "name": "stdout"
        }
      ]
    },
    {
      "cell_type": "code",
      "metadata": {
        "colab": {
          "base_uri": "https://localhost:8080/"
        },
        "id": "RoA5MtIU0rzx",
        "outputId": "48ce452f-09b1-436d-e619-281c7281e247"
      },
      "source": [
        "edad = int (input(\"introduce tu edad \"))\n",
        "while edad < 0 :\n",
        "  print(\"has introducido una edad negativa, intentalo de nuevo\")\n",
        "  edad = int (input(\"introduce tu edad:\"))\n",
        "  print(\"gracias por participar, puedes pasar\")\n",
        "  print(\"edad del aspirante\" + str (edad))"
      ],
      "execution_count": 26,
      "outputs": [
        {
          "output_type": "stream",
          "text": [
            "introduce tu edad 98\n"
          ],
          "name": "stdout"
        }
      ]
    },
    {
      "cell_type": "code",
      "metadata": {
        "colab": {
          "base_uri": "https://localhost:8080/"
        },
        "id": "_Ruy_tSr16Su",
        "outputId": "8203455f-5663-4e89-feca-e2e4d015311c"
      },
      "source": [
        "edad = int (input(\"introduce tu edad \"))\n",
        "while edad < 10 or edad <100:\n",
        "  print(\"has introducido una edad negativa, intentalo de nuevo\")\n",
        "  edad = int (input(\"introduce tu edad:\"))\n",
        "  print(\"gracias por participar, puedes pasar\")\n",
        "  print(\"edad del aspirante \" + str (edad))"
      ],
      "execution_count": 27,
      "outputs": [
        {
          "output_type": "stream",
          "text": [
            "introduce tu edad 98\n",
            "has introducido una edad negativa, intentalo de nuevo\n",
            "introduce tu edad:100\n",
            "gracias por participar, puedes pasar\n",
            "edad del aspirante100\n"
          ],
          "name": "stdout"
        }
      ]
    }
  ]
}