{
  "nbformat": 4,
  "nbformat_minor": 0,
  "metadata": {
    "colab": {
      "name": "17_nov_cyp",
      "provenance": [],
      "authorship_tag": "ABX9TyNbFjtPlJ00Wc5woQJ7A9Jn",
      "include_colab_link": true
    },
    "kernelspec": {
      "name": "python3",
      "display_name": "Python 3"
    }
  },
  "cells": [
    {
      "cell_type": "markdown",
      "metadata": {
        "id": "view-in-github",
        "colab_type": "text"
      },
      "source": [
        "<a href=\"https://colab.research.google.com/github/orlansx9/CYP_2021/blob/main/17_nov_cyp.ipynb\" target=\"_parent\"><img src=\"https://colab.research.google.com/assets/colab-badge.svg\" alt=\"Open In Colab\"/></a>"
      ]
    },
    {
      "cell_type": "code",
      "metadata": {
        "colab": {
          "base_uri": "https://localhost:8080/"
        },
        "id": "tgYk13U_SBfw",
        "outputId": "509c7758-bd5e-4d08-b84f-88fb1030a7d0"
      },
      "source": [
        "edad = 15\n",
        "estatura = 1.67\n",
        "a = 10\n",
        "b = 3\n",
        "\n",
        "c = 2 ** b + 2 +3 +4\n",
        "\n",
        "print(c)\n",
        "\n",
        "e = estatura * 2.0\n",
        "print(e)\n",
        "\n",
        "f = a / b # en python se hace el caluculo exacto\n",
        "print(f) # 3.3333\n",
        "\n",
        "# tambien podemos forzar el calculo de enteros\n",
        "g = a // b\n",
        "print(g)\n",
        "\n",
        "h = a % b\n",
        "print (\"h =\", h)\n",
        "\n",
        "num = 11\n",
        "print(\"es par num ?\", (num % 2) ==0 )"
      ],
      "execution_count": 10,
      "outputs": [
        {
          "output_type": "stream",
          "text": [
            "17\n",
            "3.34\n",
            "3.3333333333333335\n",
            "3\n",
            "h = 1\n",
            "es par num ? False\n"
          ],
          "name": "stdout"
        }
      ]
    },
    {
      "cell_type": "code",
      "metadata": {
        "colab": {
          "base_uri": "https://localhost:8080/"
        },
        "id": "YFAgcPffW3nv",
        "outputId": "810c0526-8b72-4517-8e90-9790d0309ee2"
      },
      "source": [
        "ecuacion = 9 +7 * 8 - 36 / 5 # 9 + 56 * 7.2 -> 65 - 7.2 = 57.8\n",
        "print(ecuacion)\n",
        "\n",
        "ecuacion = 9 + 7 * (8 - 36) / 5 # 128 - 7.2\n",
        "print(ecuacion)"
      ],
      "execution_count": 14,
      "outputs": [
        {
          "output_type": "stream",
          "text": [
            "57.8\n",
            "-30.200000000000003\n"
          ],
          "name": "stdout"
        }
      ]
    },
    {
      "cell_type": "code",
      "metadata": {
        "colab": {
          "base_uri": "https://localhost:8080/"
        },
        "id": "etbTwck2cHy4",
        "outputId": "02488ee5-a11e-4f81-fbbb-08cfed0dcf7e"
      },
      "source": [
        "# operadores logicos --> true y false\n",
        "\n",
        "valor = (5 == 4) # true\n",
        "print (valor)"
      ],
      "execution_count": 16,
      "outputs": [
        {
          "output_type": "stream",
          "text": [
            "False\n"
          ],
          "name": "stdout"
        }
      ]
    },
    {
      "cell_type": "code",
      "metadata": {
        "colab": {
          "base_uri": "https://localhost:8080/"
        },
        "id": "o9Qg5yyNdVWh",
        "outputId": "06c1a36e-b3c0-4649-e923-8d7c1b2f67f7"
      },
      "source": [
        "x = 5\n",
        "y = 4\n",
        "\n",
        "valor = (x == y) # son iguales ?? --> falso\n",
        "print (valor)\n",
        "valor = (x != y) # son diferentes --> verdadero\n",
        "print (valor)\n",
        "\n",
        "valor = (x > y) # x es menor que  y? falso\n",
        "print(valor)\n",
        "\n",
        "y = 5\n",
        "valor = (x <= y)  # x es menor o igual que y? true\n",
        "\n",
        "print(valor)\n",
        "\n",
        "valor = (x >= y) # x es mayor o igual que y? false\n",
        "print(valor)\n"
      ],
      "execution_count": 23,
      "outputs": [
        {
          "output_type": "stream",
          "text": [
            "False\n",
            "True\n",
            "True\n",
            "True\n",
            "True\n"
          ],
          "name": "stdout"
        }
      ]
    },
    {
      "cell_type": "code",
      "metadata": {
        "colab": {
          "base_uri": "https://localhost:8080/"
        },
        "id": "ejLOZ0cYfbR_",
        "outputId": "6159c88c-70c0-4d7f-d040-056c7cef1553"
      },
      "source": [
        "costo_chetos = 7.0\n",
        "tienda_abierta = True\n",
        "capital_en_bolsa = 10.0\n",
        "\n",
        "se_compra = (costo_chetos < capital_en_bolsa) and (tienda_abierta == True)\n",
        "print(se_compra)\n"
      ],
      "execution_count": 28,
      "outputs": [
        {
          "output_type": "stream",
          "text": [
            "True\n"
          ],
          "name": "stdout"
        }
      ]
    }
  ]
}